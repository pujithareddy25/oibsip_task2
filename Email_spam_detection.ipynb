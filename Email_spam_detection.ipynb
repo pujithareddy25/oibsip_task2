{
  "cells": [
    {
      "cell_type": "code",
      "execution_count": 4,
      "id": "f3a7287f",
      "metadata": {
        "execution": {
          "iopub.execute_input": "2023-01-29T09:31:55.478694Z",
          "iopub.status.busy": "2023-01-29T09:31:55.477584Z",
          "iopub.status.idle": "2023-01-29T09:31:56.664301Z",
          "shell.execute_reply": "2023-01-29T09:31:56.663133Z"
        },
        "id": "f3a7287f",
        "papermill": {
          "duration": 1.2041,
          "end_time": "2023-01-29T09:31:56.667603",
          "exception": false,
          "start_time": "2023-01-29T09:31:55.463503",
          "status": "completed"
        },
        "tags": []
      },
      "outputs": [],
      "source": [
        "import numpy as np\n",
        "import pandas as pd\n",
        "import matplotlib.pyplot as plt\n",
        "import seaborn as sns\n",
        "from sklearn.utils import resample\n",
        "import seaborn as sb"
      ]
    },
    {
      "cell_type": "code",
      "execution_count": 7,
      "id": "8117f25f",
      "metadata": {
        "execution": {
          "iopub.execute_input": "2023-01-29T09:31:56.706493Z",
          "iopub.status.busy": "2023-01-29T09:31:56.705665Z",
          "iopub.status.idle": "2023-01-29T09:31:56.761182Z",
          "shell.execute_reply": "2023-01-29T09:31:56.760296Z"
        },
        "id": "8117f25f",
        "outputId": "a0386a18-e400-40e1-f574-6ab62c3b7e23",
        "papermill": {
          "duration": 0.069542,
          "end_time": "2023-01-29T09:31:56.764644",
          "exception": false,
          "start_time": "2023-01-29T09:31:56.695102",
          "status": "completed"
        },
        "tags": [],
        "colab": {
          "base_uri": "https://localhost:8080/",
          "height": 423
        }
      },
      "outputs": [
        {
          "output_type": "execute_result",
          "data": {
            "text/plain": [
              "        v1                                                 v2 Unnamed: 2  \\\n",
              "0      ham  Go until jurong point, crazy.. Available only ...        NaN   \n",
              "1      ham                      Ok lar... Joking wif u oni...        NaN   \n",
              "2     spam  Free entry in 2 a wkly comp to win FA Cup fina...        NaN   \n",
              "3      ham  U dun say so early hor... U c already then say...        NaN   \n",
              "4      ham  Nah I don't think he goes to usf, he lives aro...        NaN   \n",
              "...    ...                                                ...        ...   \n",
              "5567  spam  This is the 2nd time we have tried 2 contact u...        NaN   \n",
              "5568   ham              Will Ì_ b going to esplanade fr home?        NaN   \n",
              "5569   ham  Pity, * was in mood for that. So...any other s...        NaN   \n",
              "5570   ham  The guy did some bitching but I acted like i'd...        NaN   \n",
              "5571   ham                         Rofl. Its true to its name        NaN   \n",
              "\n",
              "     Unnamed: 3 Unnamed: 4  \n",
              "0           NaN        NaN  \n",
              "1           NaN        NaN  \n",
              "2           NaN        NaN  \n",
              "3           NaN        NaN  \n",
              "4           NaN        NaN  \n",
              "...         ...        ...  \n",
              "5567        NaN        NaN  \n",
              "5568        NaN        NaN  \n",
              "5569        NaN        NaN  \n",
              "5570        NaN        NaN  \n",
              "5571        NaN        NaN  \n",
              "\n",
              "[5572 rows x 5 columns]"
            ],
            "text/html": [
              "\n",
              "  <div id=\"df-cc26c661-fe77-4248-9a08-4583906c7444\">\n",
              "    <div class=\"colab-df-container\">\n",
              "      <div>\n",
              "<style scoped>\n",
              "    .dataframe tbody tr th:only-of-type {\n",
              "        vertical-align: middle;\n",
              "    }\n",
              "\n",
              "    .dataframe tbody tr th {\n",
              "        vertical-align: top;\n",
              "    }\n",
              "\n",
              "    .dataframe thead th {\n",
              "        text-align: right;\n",
              "    }\n",
              "</style>\n",
              "<table border=\"1\" class=\"dataframe\">\n",
              "  <thead>\n",
              "    <tr style=\"text-align: right;\">\n",
              "      <th></th>\n",
              "      <th>v1</th>\n",
              "      <th>v2</th>\n",
              "      <th>Unnamed: 2</th>\n",
              "      <th>Unnamed: 3</th>\n",
              "      <th>Unnamed: 4</th>\n",
              "    </tr>\n",
              "  </thead>\n",
              "  <tbody>\n",
              "    <tr>\n",
              "      <th>0</th>\n",
              "      <td>ham</td>\n",
              "      <td>Go until jurong point, crazy.. Available only ...</td>\n",
              "      <td>NaN</td>\n",
              "      <td>NaN</td>\n",
              "      <td>NaN</td>\n",
              "    </tr>\n",
              "    <tr>\n",
              "      <th>1</th>\n",
              "      <td>ham</td>\n",
              "      <td>Ok lar... Joking wif u oni...</td>\n",
              "      <td>NaN</td>\n",
              "      <td>NaN</td>\n",
              "      <td>NaN</td>\n",
              "    </tr>\n",
              "    <tr>\n",
              "      <th>2</th>\n",
              "      <td>spam</td>\n",
              "      <td>Free entry in 2 a wkly comp to win FA Cup fina...</td>\n",
              "      <td>NaN</td>\n",
              "      <td>NaN</td>\n",
              "      <td>NaN</td>\n",
              "    </tr>\n",
              "    <tr>\n",
              "      <th>3</th>\n",
              "      <td>ham</td>\n",
              "      <td>U dun say so early hor... U c already then say...</td>\n",
              "      <td>NaN</td>\n",
              "      <td>NaN</td>\n",
              "      <td>NaN</td>\n",
              "    </tr>\n",
              "    <tr>\n",
              "      <th>4</th>\n",
              "      <td>ham</td>\n",
              "      <td>Nah I don't think he goes to usf, he lives aro...</td>\n",
              "      <td>NaN</td>\n",
              "      <td>NaN</td>\n",
              "      <td>NaN</td>\n",
              "    </tr>\n",
              "    <tr>\n",
              "      <th>...</th>\n",
              "      <td>...</td>\n",
              "      <td>...</td>\n",
              "      <td>...</td>\n",
              "      <td>...</td>\n",
              "      <td>...</td>\n",
              "    </tr>\n",
              "    <tr>\n",
              "      <th>5567</th>\n",
              "      <td>spam</td>\n",
              "      <td>This is the 2nd time we have tried 2 contact u...</td>\n",
              "      <td>NaN</td>\n",
              "      <td>NaN</td>\n",
              "      <td>NaN</td>\n",
              "    </tr>\n",
              "    <tr>\n",
              "      <th>5568</th>\n",
              "      <td>ham</td>\n",
              "      <td>Will Ì_ b going to esplanade fr home?</td>\n",
              "      <td>NaN</td>\n",
              "      <td>NaN</td>\n",
              "      <td>NaN</td>\n",
              "    </tr>\n",
              "    <tr>\n",
              "      <th>5569</th>\n",
              "      <td>ham</td>\n",
              "      <td>Pity, * was in mood for that. So...any other s...</td>\n",
              "      <td>NaN</td>\n",
              "      <td>NaN</td>\n",
              "      <td>NaN</td>\n",
              "    </tr>\n",
              "    <tr>\n",
              "      <th>5570</th>\n",
              "      <td>ham</td>\n",
              "      <td>The guy did some bitching but I acted like i'd...</td>\n",
              "      <td>NaN</td>\n",
              "      <td>NaN</td>\n",
              "      <td>NaN</td>\n",
              "    </tr>\n",
              "    <tr>\n",
              "      <th>5571</th>\n",
              "      <td>ham</td>\n",
              "      <td>Rofl. Its true to its name</td>\n",
              "      <td>NaN</td>\n",
              "      <td>NaN</td>\n",
              "      <td>NaN</td>\n",
              "    </tr>\n",
              "  </tbody>\n",
              "</table>\n",
              "<p>5572 rows × 5 columns</p>\n",
              "</div>\n",
              "      <button class=\"colab-df-convert\" onclick=\"convertToInteractive('df-cc26c661-fe77-4248-9a08-4583906c7444')\"\n",
              "              title=\"Convert this dataframe to an interactive table.\"\n",
              "              style=\"display:none;\">\n",
              "        \n",
              "  <svg xmlns=\"http://www.w3.org/2000/svg\" height=\"24px\"viewBox=\"0 0 24 24\"\n",
              "       width=\"24px\">\n",
              "    <path d=\"M0 0h24v24H0V0z\" fill=\"none\"/>\n",
              "    <path d=\"M18.56 5.44l.94 2.06.94-2.06 2.06-.94-2.06-.94-.94-2.06-.94 2.06-2.06.94zm-11 1L8.5 8.5l.94-2.06 2.06-.94-2.06-.94L8.5 2.5l-.94 2.06-2.06.94zm10 10l.94 2.06.94-2.06 2.06-.94-2.06-.94-.94-2.06-.94 2.06-2.06.94z\"/><path d=\"M17.41 7.96l-1.37-1.37c-.4-.4-.92-.59-1.43-.59-.52 0-1.04.2-1.43.59L10.3 9.45l-7.72 7.72c-.78.78-.78 2.05 0 2.83L4 21.41c.39.39.9.59 1.41.59.51 0 1.02-.2 1.41-.59l7.78-7.78 2.81-2.81c.8-.78.8-2.07 0-2.86zM5.41 20L4 18.59l7.72-7.72 1.47 1.35L5.41 20z\"/>\n",
              "  </svg>\n",
              "      </button>\n",
              "      \n",
              "  <style>\n",
              "    .colab-df-container {\n",
              "      display:flex;\n",
              "      flex-wrap:wrap;\n",
              "      gap: 12px;\n",
              "    }\n",
              "\n",
              "    .colab-df-convert {\n",
              "      background-color: #E8F0FE;\n",
              "      border: none;\n",
              "      border-radius: 50%;\n",
              "      cursor: pointer;\n",
              "      display: none;\n",
              "      fill: #1967D2;\n",
              "      height: 32px;\n",
              "      padding: 0 0 0 0;\n",
              "      width: 32px;\n",
              "    }\n",
              "\n",
              "    .colab-df-convert:hover {\n",
              "      background-color: #E2EBFA;\n",
              "      box-shadow: 0px 1px 2px rgba(60, 64, 67, 0.3), 0px 1px 3px 1px rgba(60, 64, 67, 0.15);\n",
              "      fill: #174EA6;\n",
              "    }\n",
              "\n",
              "    [theme=dark] .colab-df-convert {\n",
              "      background-color: #3B4455;\n",
              "      fill: #D2E3FC;\n",
              "    }\n",
              "\n",
              "    [theme=dark] .colab-df-convert:hover {\n",
              "      background-color: #434B5C;\n",
              "      box-shadow: 0px 1px 3px 1px rgba(0, 0, 0, 0.15);\n",
              "      filter: drop-shadow(0px 1px 2px rgba(0, 0, 0, 0.3));\n",
              "      fill: #FFFFFF;\n",
              "    }\n",
              "  </style>\n",
              "\n",
              "      <script>\n",
              "        const buttonEl =\n",
              "          document.querySelector('#df-cc26c661-fe77-4248-9a08-4583906c7444 button.colab-df-convert');\n",
              "        buttonEl.style.display =\n",
              "          google.colab.kernel.accessAllowed ? 'block' : 'none';\n",
              "\n",
              "        async function convertToInteractive(key) {\n",
              "          const element = document.querySelector('#df-cc26c661-fe77-4248-9a08-4583906c7444');\n",
              "          const dataTable =\n",
              "            await google.colab.kernel.invokeFunction('convertToInteractive',\n",
              "                                                     [key], {});\n",
              "          if (!dataTable) return;\n",
              "\n",
              "          const docLinkHtml = 'Like what you see? Visit the ' +\n",
              "            '<a target=\"_blank\" href=https://colab.research.google.com/notebooks/data_table.ipynb>data table notebook</a>'\n",
              "            + ' to learn more about interactive tables.';\n",
              "          element.innerHTML = '';\n",
              "          dataTable['output_type'] = 'display_data';\n",
              "          await google.colab.output.renderOutput(dataTable, element);\n",
              "          const docLink = document.createElement('div');\n",
              "          docLink.innerHTML = docLinkHtml;\n",
              "          element.appendChild(docLink);\n",
              "        }\n",
              "      </script>\n",
              "    </div>\n",
              "  </div>\n",
              "  "
            ]
          },
          "metadata": {},
          "execution_count": 7
        }
      ],
      "source": [
        "df=pd.read_csv(\"/content/spam.csv\",encoding=\"latin1\")\n",
        "df"
      ]
    },
    {
      "cell_type": "code",
      "execution_count": 8,
      "id": "4e131d8a",
      "metadata": {
        "execution": {
          "iopub.execute_input": "2023-01-29T09:31:56.785723Z",
          "iopub.status.busy": "2023-01-29T09:31:56.785234Z",
          "iopub.status.idle": "2023-01-29T09:31:56.810479Z",
          "shell.execute_reply": "2023-01-29T09:31:56.809123Z"
        },
        "id": "4e131d8a",
        "outputId": "30ae96be-2490-4a46-8331-45f471d7d2c5",
        "papermill": {
          "duration": 0.039241,
          "end_time": "2023-01-29T09:31:56.813600",
          "exception": false,
          "start_time": "2023-01-29T09:31:56.774359",
          "status": "completed"
        },
        "tags": [],
        "colab": {
          "base_uri": "https://localhost:8080/"
        }
      },
      "outputs": [
        {
          "output_type": "stream",
          "name": "stdout",
          "text": [
            "<class 'pandas.core.frame.DataFrame'>\n",
            "RangeIndex: 5572 entries, 0 to 5571\n",
            "Data columns (total 5 columns):\n",
            " #   Column      Non-Null Count  Dtype \n",
            "---  ------      --------------  ----- \n",
            " 0   v1          5572 non-null   object\n",
            " 1   v2          5572 non-null   object\n",
            " 2   Unnamed: 2  50 non-null     object\n",
            " 3   Unnamed: 3  12 non-null     object\n",
            " 4   Unnamed: 4  6 non-null      object\n",
            "dtypes: object(5)\n",
            "memory usage: 217.8+ KB\n"
          ]
        }
      ],
      "source": [
        "df.info()"
      ]
    },
    {
      "cell_type": "code",
      "execution_count": 9,
      "id": "3db3b2eb",
      "metadata": {
        "execution": {
          "iopub.execute_input": "2023-01-29T09:31:56.834857Z",
          "iopub.status.busy": "2023-01-29T09:31:56.834128Z",
          "iopub.status.idle": "2023-01-29T09:31:56.845208Z",
          "shell.execute_reply": "2023-01-29T09:31:56.843801Z"
        },
        "papermill": {
          "duration": 0.024744,
          "end_time": "2023-01-29T09:31:56.848005",
          "exception": false,
          "start_time": "2023-01-29T09:31:56.823261",
          "status": "completed"
        },
        "tags": [],
        "colab": {
          "base_uri": "https://localhost:8080/"
        },
        "id": "3db3b2eb",
        "outputId": "77034411-dfcd-4c9e-8604-733d38bc25e6"
      },
      "outputs": [
        {
          "output_type": "execute_result",
          "data": {
            "text/plain": [
              "v1               0\n",
              "v2               0\n",
              "Unnamed: 2    5522\n",
              "Unnamed: 3    5560\n",
              "Unnamed: 4    5566\n",
              "dtype: int64"
            ]
          },
          "metadata": {},
          "execution_count": 9
        }
      ],
      "source": [
        "df.isnull().sum()"
      ]
    },
    {
      "cell_type": "code",
      "execution_count": 10,
      "id": "629f7254",
      "metadata": {
        "execution": {
          "iopub.execute_input": "2023-01-29T09:31:56.887791Z",
          "iopub.status.busy": "2023-01-29T09:31:56.887343Z",
          "iopub.status.idle": "2023-01-29T09:31:56.896619Z",
          "shell.execute_reply": "2023-01-29T09:31:56.895347Z"
        },
        "id": "629f7254",
        "papermill": {
          "duration": 0.022616,
          "end_time": "2023-01-29T09:31:56.899005",
          "exception": false,
          "start_time": "2023-01-29T09:31:56.876389",
          "status": "completed"
        },
        "tags": [],
        "colab": {
          "base_uri": "https://localhost:8080/"
        },
        "outputId": "91a8abad-6cfc-4045-a228-5d66b8ec7fdb"
      },
      "outputs": [
        {
          "output_type": "execute_result",
          "data": {
            "text/plain": [
              "0       Go until jurong point, crazy.. Available only ...\n",
              "1                           Ok lar... Joking wif u oni...\n",
              "2       Free entry in 2 a wkly comp to win FA Cup fina...\n",
              "3       U dun say so early hor... U c already then say...\n",
              "4       Nah I don't think he goes to usf, he lives aro...\n",
              "                              ...                        \n",
              "5567    This is the 2nd time we have tried 2 contact u...\n",
              "5568                Will Ì_ b going to esplanade fr home?\n",
              "5569    Pity, * was in mood for that. So...any other s...\n",
              "5570    The guy did some bitching but I acted like i'd...\n",
              "5571                           Rofl. Its true to its name\n",
              "Name: v2, Length: 5572, dtype: object"
            ]
          },
          "metadata": {},
          "execution_count": 10
        }
      ],
      "source": [
        "x=df.v2\n",
        "x"
      ]
    },
    {
      "cell_type": "code",
      "execution_count": 11,
      "id": "4d374bc0",
      "metadata": {
        "execution": {
          "iopub.execute_input": "2023-01-29T09:31:56.920405Z",
          "iopub.status.busy": "2023-01-29T09:31:56.920010Z",
          "iopub.status.idle": "2023-01-29T09:31:56.928303Z",
          "shell.execute_reply": "2023-01-29T09:31:56.927162Z"
        },
        "papermill": {
          "duration": 0.021954,
          "end_time": "2023-01-29T09:31:56.930681",
          "exception": false,
          "start_time": "2023-01-29T09:31:56.908727",
          "status": "completed"
        },
        "tags": [],
        "colab": {
          "base_uri": "https://localhost:8080/"
        },
        "id": "4d374bc0",
        "outputId": "b6c8ba58-ec2d-4fac-ec9c-a518ab319af1"
      },
      "outputs": [
        {
          "output_type": "execute_result",
          "data": {
            "text/plain": [
              "0        ham\n",
              "1        ham\n",
              "2       spam\n",
              "3        ham\n",
              "4        ham\n",
              "        ... \n",
              "5567    spam\n",
              "5568     ham\n",
              "5569     ham\n",
              "5570     ham\n",
              "5571     ham\n",
              "Name: v1, Length: 5572, dtype: object"
            ]
          },
          "metadata": {},
          "execution_count": 11
        }
      ],
      "source": [
        "y=df.v1\n",
        "y"
      ]
    },
    {
      "cell_type": "code",
      "execution_count": 12,
      "id": "4fce82c8",
      "metadata": {
        "execution": {
          "iopub.execute_input": "2023-01-29T09:31:56.972895Z",
          "iopub.status.busy": "2023-01-29T09:31:56.972173Z",
          "iopub.status.idle": "2023-01-29T09:31:56.986285Z",
          "shell.execute_reply": "2023-01-29T09:31:56.985080Z"
        },
        "id": "4fce82c8",
        "outputId": "9e41bbe4-eaad-4c21-fb89-941d8719e554",
        "papermill": {
          "duration": 0.028301,
          "end_time": "2023-01-29T09:31:56.988945",
          "exception": false,
          "start_time": "2023-01-29T09:31:56.960644",
          "status": "completed"
        },
        "tags": [],
        "colab": {
          "base_uri": "https://localhost:8080/"
        }
      },
      "outputs": [
        {
          "output_type": "execute_result",
          "data": {
            "text/plain": [
              "0       1\n",
              "1       1\n",
              "2       0\n",
              "3       1\n",
              "4       1\n",
              "       ..\n",
              "5567    0\n",
              "5568    1\n",
              "5569    1\n",
              "5570    1\n",
              "5571    1\n",
              "Name: v1, Length: 5572, dtype: int64"
            ]
          },
          "metadata": {},
          "execution_count": 12
        }
      ],
      "source": [
        "y.replace(to_replace='ham',value=1,inplace=True)\n",
        "y.replace(to_replace='spam',value=0,inplace=True)\n",
        "y"
      ]
    },
    {
      "cell_type": "code",
      "execution_count": 13,
      "id": "ddefd62d",
      "metadata": {
        "execution": {
          "iopub.execute_input": "2023-01-29T09:31:57.031948Z",
          "iopub.status.busy": "2023-01-29T09:31:57.031540Z",
          "iopub.status.idle": "2023-01-29T09:31:57.040736Z",
          "shell.execute_reply": "2023-01-29T09:31:57.039466Z"
        },
        "papermill": {
          "duration": 0.023357,
          "end_time": "2023-01-29T09:31:57.043093",
          "exception": false,
          "start_time": "2023-01-29T09:31:57.019736",
          "status": "completed"
        },
        "tags": [],
        "colab": {
          "base_uri": "https://localhost:8080/"
        },
        "id": "ddefd62d",
        "outputId": "838d90d8-8824-4170-b178-f240e0182f4f"
      },
      "outputs": [
        {
          "output_type": "execute_result",
          "data": {
            "text/plain": [
              "1    4825\n",
              "0     747\n",
              "Name: v1, dtype: int64"
            ]
          },
          "metadata": {},
          "execution_count": 13
        }
      ],
      "source": [
        "y=df.v1\n",
        "y.value_counts()"
      ]
    },
    {
      "cell_type": "code",
      "execution_count": 14,
      "id": "17a2a874",
      "metadata": {
        "execution": {
          "iopub.execute_input": "2023-01-29T09:31:57.065823Z",
          "iopub.status.busy": "2023-01-29T09:31:57.064798Z",
          "iopub.status.idle": "2023-01-29T09:31:57.298359Z",
          "shell.execute_reply": "2023-01-29T09:31:57.296988Z"
        },
        "papermill": {
          "duration": 0.248173,
          "end_time": "2023-01-29T09:31:57.301410",
          "exception": false,
          "start_time": "2023-01-29T09:31:57.053237",
          "status": "completed"
        },
        "tags": [],
        "colab": {
          "base_uri": "https://localhost:8080/",
          "height": 467
        },
        "id": "17a2a874",
        "outputId": "081b05e7-b884-490b-a927-99acfb4ea950"
      },
      "outputs": [
        {
          "output_type": "execute_result",
          "data": {
            "text/plain": [
              "<Axes: xlabel='v1', ylabel='Count'>"
            ]
          },
          "metadata": {},
          "execution_count": 14
        },
        {
          "output_type": "display_data",
          "data": {
            "text/plain": [
              "<Figure size 640x480 with 1 Axes>"
            ],
            "image/png": "[encoded data removed]"
          },
          "metadata": {}
        }
      ],
      "source": [
        "sb.histplot(y)"
      ]
    },
    {
      "cell_type": "code",
      "execution_count": 15,
      "id": "6edd889a",
      "metadata": {
        "execution": {
          "iopub.execute_input": "2023-01-29T09:31:57.365842Z",
          "iopub.status.busy": "2023-01-29T09:31:57.365391Z",
          "iopub.status.idle": "2023-01-29T09:31:57.462580Z",
          "shell.execute_reply": "2023-01-29T09:31:57.461141Z"
        },
        "id": "6edd889a",
        "papermill": {
          "duration": 0.112686,
          "end_time": "2023-01-29T09:31:57.465758",
          "exception": false,
          "start_time": "2023-01-29T09:31:57.353072",
          "status": "completed"
        },
        "tags": []
      },
      "outputs": [],
      "source": [
        "from sklearn.model_selection import train_test_split\n",
        "x_train,x_test,y_train,y_test=train_test_split(x,y,train_size=0.9,random_state=25)"
      ]
    },
    {
      "cell_type": "code",
      "execution_count": 16,
      "id": "6963b362",
      "metadata": {
        "execution": {
          "iopub.execute_input": "2023-01-29T09:31:57.510393Z",
          "iopub.status.busy": "2023-01-29T09:31:57.509971Z",
          "iopub.status.idle": "2023-01-29T09:31:57.520608Z",
          "shell.execute_reply": "2023-01-29T09:31:57.518870Z"
        },
        "papermill": {
          "duration": 0.029848,
          "end_time": "2023-01-29T09:31:57.527349",
          "exception": false,
          "start_time": "2023-01-29T09:31:57.497501",
          "status": "completed"
        },
        "tags": [],
        "id": "6963b362"
      },
      "outputs": [],
      "source": [
        "gok= pd.concat([x_train, y_train], axis=1)\n",
        "spam = gok[gok.v1==0]\n",
        "ham = gok[gok.v1==1]"
      ]
    },
    {
      "cell_type": "code",
      "execution_count": 17,
      "id": "6ca25abd",
      "metadata": {
        "execution": {
          "iopub.execute_input": "2023-01-29T09:31:57.557463Z",
          "iopub.status.busy": "2023-01-29T09:31:57.556913Z",
          "iopub.status.idle": "2023-01-29T09:31:57.566139Z",
          "shell.execute_reply": "2023-01-29T09:31:57.564818Z"
        },
        "papermill": {
          "duration": 0.028304,
          "end_time": "2023-01-29T09:31:57.570886",
          "exception": false,
          "start_time": "2023-01-29T09:31:57.542582",
          "status": "completed"
        },
        "tags": [],
        "id": "6ca25abd"
      },
      "outputs": [],
      "source": [
        "assem=resample(spam,replace=True,n_samples=len(ham),random_state=25)"
      ]
    },
    {
      "cell_type": "code",
      "execution_count": 18,
      "id": "5897f809",
      "metadata": {
        "execution": {
          "iopub.execute_input": "2023-01-29T09:31:57.626005Z",
          "iopub.status.busy": "2023-01-29T09:31:57.625558Z",
          "iopub.status.idle": "2023-01-29T09:31:57.636716Z",
          "shell.execute_reply": "2023-01-29T09:31:57.635620Z"
        },
        "papermill": {
          "duration": 0.029514,
          "end_time": "2023-01-29T09:31:57.639156",
          "exception": false,
          "start_time": "2023-01-29T09:31:57.609642",
          "status": "completed"
        },
        "tags": [],
        "colab": {
          "base_uri": "https://localhost:8080/"
        },
        "id": "5897f809",
        "outputId": "b28c59dc-88f6-406f-8ac3-da471b6e7eb9"
      },
      "outputs": [
        {
          "output_type": "execute_result",
          "data": {
            "text/plain": [
              "1    4350\n",
              "0    4350\n",
              "Name: v1, dtype: int64"
            ]
          },
          "metadata": {},
          "execution_count": 18
        }
      ],
      "source": [
        "upsample=pd.concat([ham,assem])\n",
        "upsample.v1.value_counts()"
      ]
    },
    {
      "cell_type": "code",
      "execution_count": 19,
      "id": "9ff937fd",
      "metadata": {
        "execution": {
          "iopub.execute_input": "2023-01-29T09:31:57.683670Z",
          "iopub.status.busy": "2023-01-29T09:31:57.683206Z",
          "iopub.status.idle": "2023-01-29T09:31:57.688933Z",
          "shell.execute_reply": "2023-01-29T09:31:57.687657Z"
        },
        "papermill": {
          "duration": 0.019867,
          "end_time": "2023-01-29T09:31:57.691410",
          "exception": false,
          "start_time": "2023-01-29T09:31:57.671543",
          "status": "completed"
        },
        "tags": [],
        "id": "9ff937fd"
      },
      "outputs": [],
      "source": [
        "y_train=upsample.v1\n",
        "x_train=upsample.v2"
      ]
    },
    {
      "cell_type": "code",
      "execution_count": 20,
      "id": "ba412788",
      "metadata": {
        "execution": {
          "iopub.execute_input": "2023-01-29T09:31:57.715815Z",
          "iopub.status.busy": "2023-01-29T09:31:57.714568Z",
          "iopub.status.idle": "2023-01-29T09:31:57.724390Z",
          "shell.execute_reply": "2023-01-29T09:31:57.723241Z"
        },
        "papermill": {
          "duration": 0.024849,
          "end_time": "2023-01-29T09:31:57.726883",
          "exception": false,
          "start_time": "2023-01-29T09:31:57.702034",
          "status": "completed"
        },
        "tags": [],
        "colab": {
          "base_uri": "https://localhost:8080/"
        },
        "id": "ba412788",
        "outputId": "8e42fc3f-2a43-49b8-def0-4dfa88e5a0ba"
      },
      "outputs": [
        {
          "output_type": "execute_result",
          "data": {
            "text/plain": [
              "778     Happy New year my dear brother. I really do mi...\n",
              "5444    Good morning. At the repair shop--the ONLY rea...\n",
              "4114    Sorry. You never hear unless you book it. One ...\n",
              "3229    I feel like a dick because I keep sleeping thr...\n",
              "3180    So many people seems to be special at first si...\n",
              "                              ...                        \n",
              "3569    Customer Loyalty Offer:The NEW Nokia6650 Mobil...\n",
              "3817    74355 XMAS iscoming & ur awarded either å£500 ...\n",
              "4504    Mobile Club: Choose any of the top quality ite...\n",
              "269     Ringtone Club: Get the UK singles chart on you...\n",
              "1141    I don't know u and u don't know me. Send CHAT ...\n",
              "Name: v2, Length: 8700, dtype: object"
            ]
          },
          "metadata": {},
          "execution_count": 20
        }
      ],
      "source": [
        "x_train"
      ]
    },
    {
      "cell_type": "code",
      "execution_count": 21,
      "id": "ab73ef84",
      "metadata": {
        "execution": {
          "iopub.execute_input": "2023-01-29T09:31:57.751024Z",
          "iopub.status.busy": "2023-01-29T09:31:57.750572Z",
          "iopub.status.idle": "2023-01-29T09:31:57.759691Z",
          "shell.execute_reply": "2023-01-29T09:31:57.758478Z"
        },
        "papermill": {
          "duration": 0.024316,
          "end_time": "2023-01-29T09:31:57.762223",
          "exception": false,
          "start_time": "2023-01-29T09:31:57.737907",
          "status": "completed"
        },
        "tags": [],
        "colab": {
          "base_uri": "https://localhost:8080/"
        },
        "id": "ab73ef84",
        "outputId": "debd864f-11a0-40c1-c6a4-1738fead3871"
      },
      "outputs": [
        {
          "output_type": "execute_result",
          "data": {
            "text/plain": [
              "778     1\n",
              "5444    1\n",
              "4114    1\n",
              "3229    1\n",
              "3180    1\n",
              "       ..\n",
              "3569    0\n",
              "3817    0\n",
              "4504    0\n",
              "269     0\n",
              "1141    0\n",
              "Name: v1, Length: 8700, dtype: int64"
            ]
          },
          "metadata": {},
          "execution_count": 21
        }
      ],
      "source": [
        "y_train"
      ]
    },
    {
      "cell_type": "code",
      "execution_count": 22,
      "id": "5547364c",
      "metadata": {
        "execution": {
          "iopub.execute_input": "2023-01-29T09:31:57.786019Z",
          "iopub.status.busy": "2023-01-29T09:31:57.785564Z",
          "iopub.status.idle": "2023-01-29T09:31:57.986634Z",
          "shell.execute_reply": "2023-01-29T09:31:57.985435Z"
        },
        "papermill": {
          "duration": 0.216667,
          "end_time": "2023-01-29T09:31:57.989951",
          "exception": false,
          "start_time": "2023-01-29T09:31:57.773284",
          "status": "completed"
        },
        "tags": [],
        "colab": {
          "base_uri": "https://localhost:8080/",
          "height": 466
        },
        "id": "5547364c",
        "outputId": "7887357c-610c-40c1-afdb-9f40dd7f6230"
      },
      "outputs": [
        {
          "output_type": "execute_result",
          "data": {
            "text/plain": [
              "<Axes: xlabel='v1', ylabel='Count'>"
            ]
          },
          "metadata": {},
          "execution_count": 22
        },
        {
          "output_type": "display_data",
          "data": {
            "text/plain": [
              "<Figure size 640x480 with 1 Axes>"
            ],
            "image/png": "[encoded data removed]"
          },
          "metadata": {}
        }
      ],
      "source": [
        "sb.histplot(y_train)"
      ]
    },
    {
      "cell_type": "code",
      "execution_count": 23,
      "id": "262b10de",
      "metadata": {
        "execution": {
          "iopub.execute_input": "2023-01-29T09:31:58.036584Z",
          "iopub.status.busy": "2023-01-29T09:31:58.036124Z",
          "iopub.status.idle": "2023-01-29T09:31:58.247022Z",
          "shell.execute_reply": "2023-01-29T09:31:58.245884Z"
        },
        "papermill": {
          "duration": 0.226267,
          "end_time": "2023-01-29T09:31:58.249880",
          "exception": false,
          "start_time": "2023-01-29T09:31:58.023613",
          "status": "completed"
        },
        "tags": [],
        "id": "262b10de"
      },
      "outputs": [],
      "source": [
        "from sklearn.feature_extraction.text import TfidfVectorizer\n",
        "vect=TfidfVectorizer(min_df=1,stop_words='english',lowercase=True)\n",
        "tf=vect.fit_transform(x_train)\n",
        "tt=vect.transform(x_test)\n",
        "y_train=y_train.astype('int')\n",
        "y_test=y_test.astype('int')"
      ]
    },
    {
      "cell_type": "code",
      "execution_count": 24,
      "id": "3e31e92f",
      "metadata": {
        "execution": {
          "iopub.execute_input": "2023-01-29T09:31:58.333116Z",
          "iopub.status.busy": "2023-01-29T09:31:58.332173Z",
          "iopub.status.idle": "2023-01-29T09:31:58.342674Z",
          "shell.execute_reply": "2023-01-29T09:31:58.340617Z"
        },
        "id": "3e31e92f",
        "papermill": {
          "duration": 0.025821,
          "end_time": "2023-01-29T09:31:58.345291",
          "exception": false,
          "start_time": "2023-01-29T09:31:58.319470",
          "status": "completed"
        },
        "tags": [],
        "colab": {
          "base_uri": "https://localhost:8080/"
        },
        "outputId": "050b6888-feaa-4e2c-d03f-58f0a5f3dcde"
      },
      "outputs": [
        {
          "output_type": "stream",
          "name": "stdout",
          "text": [
            "  (1, 6289)\t0.6646583765359628\n",
            "  (1, 5037)\t0.5403845880532138\n",
            "  (1, 3101)\t0.3343090666643328\n",
            "  (1, 1886)\t0.39300278299416563\n",
            "  (2, 2959)\t1.0\n",
            "  (3, 3101)\t0.4969001371840875\n",
            "  (3, 2711)\t0.8678077285127362\n"
          ]
        }
      ],
      "source": [
        "mail=[\n",
        "    'Enjpy your biryani by ordering it now',\n",
        "    'claim free offer,shop now',\n",
        "    'your file was found',\n",
        "    'enjoy zomato for free',\n",
        "]\n",
        "\n",
        "mail=vect.transform(mail)\n",
        "print(mail)"
      ]
    },
    {
      "cell_type": "code",
      "execution_count": 25,
      "id": "ca09e70a",
      "metadata": {
        "execution": {
          "iopub.execute_input": "2023-01-29T09:31:58.393080Z",
          "iopub.status.busy": "2023-01-29T09:31:58.392065Z",
          "iopub.status.idle": "2023-01-29T09:31:58.578847Z",
          "shell.execute_reply": "2023-01-29T09:31:58.577582Z"
        },
        "papermill": {
          "duration": 0.202205,
          "end_time": "2023-01-29T09:31:58.581553",
          "exception": false,
          "start_time": "2023-01-29T09:31:58.379348",
          "status": "completed"
        },
        "tags": [],
        "colab": {
          "base_uri": "https://localhost:8080/",
          "height": 74
        },
        "id": "ca09e70a",
        "outputId": "33b1fd32-88ce-47b3-ba8e-61c82a30a873"
      },
      "outputs": [
        {
          "output_type": "execute_result",
          "data": {
            "text/plain": [
              "LogisticRegression()"
            ],
            "text/html": [
              "<style>#sk-container-id-1 {color: black;background-color: white;}#sk-container-id-1 pre{padding: 0;}#sk-container-id-1 div.sk-toggleable {background-color: white;}#sk-container-id-1 label.sk-toggleable__label {cursor: pointer;display: block;width: 100%;margin-bottom: 0;padding: 0.3em;box-sizing: border-box;text-align: center;}#sk-container-id-1 label.sk-toggleable__label-arrow:before {content: \"▸\";float: left;margin-right: 0.25em;color: #696969;}#sk-container-id-1 label.sk-toggleable__label-arrow:hover:before {color: black;}#sk-container-id-1 div.sk-estimator:hover label.sk-toggleable__label-arrow:before {color: black;}#sk-container-id-1 div.sk-toggleable__content {max-height: 0;max-width: 0;overflow: hidden;text-align: left;background-color: #f0f8ff;}#sk-container-id-1 div.sk-toggleable__content pre {margin: 0.2em;color: black;border-radius: 0.25em;background-color: #f0f8ff;}#sk-container-id-1 input.sk-toggleable__control:checked~div.sk-toggleable__content {max-height: 200px;max-width: 100%;overflow: auto;}#sk-container-id-1 input.sk-toggleable__control:checked~label.sk-toggleable__label-arrow:before {content: \"▾\";}#sk-container-id-1 div.sk-estimator input.sk-toggleable__control:checked~label.sk-toggleable__label {background-color: #d4ebff;}#sk-container-id-1 div.sk-label input.sk-toggleable__control:checked~label.sk-toggleable__label {background-color: #d4ebff;}#sk-container-id-1 input.sk-hidden--visually {border: 0;clip: rect(1px 1px 1px 1px);clip: rect(1px, 1px, 1px, 1px);height: 1px;margin: -1px;overflow: hidden;padding: 0;position: absolute;width: 1px;}#sk-container-id-1 div.sk-estimator {font-family: monospace;background-color: #f0f8ff;border: 1px dotted black;border-radius: 0.25em;box-sizing: border-box;margin-bottom: 0.5em;}#sk-container-id-1 div.sk-estimator:hover {background-color: #d4ebff;}#sk-container-id-1 div.sk-parallel-item::after {content: \"\";width: 100%;border-bottom: 1px solid gray;flex-grow: 1;}#sk-container-id-1 div.sk-label:hover label.sk-toggleable__label {background-color: #d4ebff;}#sk-container-id-1 div.sk-serial::before {content: \"\";position: absolute;border-left: 1px solid gray;box-sizing: border-box;top: 0;bottom: 0;left: 50%;z-index: 0;}#sk-container-id-1 div.sk-serial {display: flex;flex-direction: column;align-items: center;background-color: white;padding-right: 0.2em;padding-left: 0.2em;position: relative;}#sk-container-id-1 div.sk-item {position: relative;z-index: 1;}#sk-container-id-1 div.sk-parallel {display: flex;align-items: stretch;justify-content: center;background-color: white;position: relative;}#sk-container-id-1 div.sk-item::before, #sk-container-id-1 div.sk-parallel-item::before {content: \"\";position: absolute;border-left: 1px solid gray;box-sizing: border-box;top: 0;bottom: 0;left: 50%;z-index: -1;}#sk-container-id-1 div.sk-parallel-item {display: flex;flex-direction: column;z-index: 1;position: relative;background-color: white;}#sk-container-id-1 div.sk-parallel-item:first-child::after {align-self: flex-end;width: 50%;}#sk-container-id-1 div.sk-parallel-item:last-child::after {align-self: flex-start;width: 50%;}#sk-container-id-1 div.sk-parallel-item:only-child::after {width: 0;}#sk-container-id-1 div.sk-dashed-wrapped {border: 1px dashed gray;margin: 0 0.4em 0.5em 0.4em;box-sizing: border-box;padding-bottom: 0.4em;background-color: white;}#sk-container-id-1 div.sk-label label {font-family: monospace;font-weight: bold;display: inline-block;line-height: 1.2em;}#sk-container-id-1 div.sk-label-container {text-align: center;}#sk-container-id-1 div.sk-container {/* jupyter's `normalize.less` sets `[hidden] { display: none; }` but bootstrap.min.css set `[hidden] { display: none !important; }` so we also need the `!important` here to be able to override the default hidden behavior on the sphinx rendered scikit-learn.org. See: https://github.com/scikit-learn/scikit-learn/issues/21755 */display: inline-block !important;position: relative;}#sk-container-id-1 div.sk-text-repr-fallback {display: none;}</style><div id=\"sk-container-id-1\" class=\"sk-top-container\"><div class=\"sk-text-repr-fallback\"><pre>LogisticRegression()</pre><b>In a Jupyter environment, please rerun this cell to show the HTML representation or trust the notebook. <br />On GitHub, the HTML representation is unable to render, please try loading this page with nbviewer.org.</b></div><div class=\"sk-container\" hidden><div class=\"sk-item\"><div class=\"sk-estimator sk-toggleable\"><input class=\"sk-toggleable__control sk-hidden--visually\" id=\"sk-estimator-id-1\" type=\"checkbox\" checked><label for=\"sk-estimator-id-1\" class=\"sk-toggleable__label sk-toggleable__label-arrow\">LogisticRegression</label><div class=\"sk-toggleable__content\"><pre>LogisticRegression()</pre></div></div></div></div></div>"
            ]
          },
          "metadata": {},
          "execution_count": 25
        }
      ],
      "source": [
        "from sklearn.linear_model import LogisticRegression\n",
        "mod=LogisticRegression()\n",
        "\n",
        "mod.fit(tf,y_train)"
      ]
    },
    {
      "cell_type": "code",
      "execution_count": 26,
      "id": "06886c25",
      "metadata": {
        "execution": {
          "iopub.execute_input": "2023-01-29T09:31:58.607469Z",
          "iopub.status.busy": "2023-01-29T09:31:58.606468Z",
          "iopub.status.idle": "2023-01-29T09:31:58.616680Z",
          "shell.execute_reply": "2023-01-29T09:31:58.615447Z"
        },
        "papermill": {
          "duration": 0.026344,
          "end_time": "2023-01-29T09:31:58.619481",
          "exception": false,
          "start_time": "2023-01-29T09:31:58.593137",
          "status": "completed"
        },
        "tags": [],
        "colab": {
          "base_uri": "https://localhost:8080/"
        },
        "id": "06886c25",
        "outputId": "bd556da9-fa4f-48df-d3b0-07c542b613ba"
      },
      "outputs": [
        {
          "output_type": "execute_result",
          "data": {
            "text/plain": [
              "array([1, 1, 0, 1, 1, 1, 1, 1, 1, 0, 1, 1, 1, 0, 1, 1, 1, 1, 1, 1, 1, 1,\n",
              "       1, 1, 1, 1, 0, 0, 1, 1, 1, 1, 1, 1, 0, 1, 1, 1, 1, 1, 0, 1, 1, 1,\n",
              "       1, 1, 1, 1, 1, 1, 1, 1, 1, 1, 1, 1, 1, 0, 1, 1, 1, 1, 1, 1, 1, 1,\n",
              "       1, 1, 1, 1, 1, 1, 1, 1, 1, 1, 0, 1, 1, 1, 1, 1, 1, 1, 1, 1, 1, 1,\n",
              "       0, 1, 1, 1, 0, 1, 1, 1, 1, 1, 1, 0, 1, 1, 0, 1, 1, 1, 1, 1, 1, 1,\n",
              "       1, 1, 1, 1, 1, 1, 1, 1, 1, 1, 1, 0, 1, 0, 1, 1, 1, 1, 1, 1, 1, 0,\n",
              "       1, 1, 1, 1, 1, 0, 1, 1, 0, 1, 1, 1, 1, 1, 1, 1, 1, 1, 1, 1, 1, 1,\n",
              "       1, 1, 1, 1, 1, 1, 0, 1, 1, 1, 1, 1, 1, 0, 0, 1, 1, 1, 1, 0, 1, 1,\n",
              "       1, 1, 0, 1, 1, 1, 1, 1, 1, 0, 1, 1, 1, 1, 0, 1, 1, 0, 1, 1, 1, 1,\n",
              "       1, 1, 1, 1, 0, 0, 1, 1, 1, 1, 1, 1, 1, 1, 1, 1, 1, 0, 1, 1, 0, 1,\n",
              "       1, 1, 1, 0, 1, 1, 1, 1, 0, 1, 1, 1, 0, 1, 1, 1, 1, 1, 1, 1, 1, 1,\n",
              "       1, 1, 1, 1, 1, 1, 1, 1, 1, 1, 1, 0, 1, 1, 1, 1, 1, 1, 1, 1, 1, 1,\n",
              "       1, 1, 1, 0, 1, 1, 1, 1, 1, 1, 1, 1, 1, 1, 1, 1, 1, 1, 0, 1, 1, 1,\n",
              "       1, 1, 1, 1, 1, 0, 1, 1, 1, 1, 1, 0, 0, 1, 1, 1, 1, 1, 0, 1, 1, 1,\n",
              "       1, 1, 0, 0, 1, 1, 1, 1, 1, 1, 1, 1, 0, 0, 0, 1, 0, 1, 1, 1, 0, 1,\n",
              "       1, 1, 1, 1, 0, 1, 0, 1, 1, 1, 0, 1, 1, 0, 1, 1, 1, 1, 1, 1, 1, 1,\n",
              "       1, 1, 1, 1, 0, 0, 1, 1, 1, 0, 0, 1, 1, 0, 1, 1, 0, 1, 0, 1, 1, 1,\n",
              "       1, 1, 1, 1, 1, 1, 0, 1, 0, 0, 1, 1, 0, 1, 1, 1, 1, 0, 1, 0, 1, 1,\n",
              "       1, 1, 1, 1, 1, 1, 1, 1, 1, 1, 1, 1, 1, 1, 1, 1, 1, 1, 1, 1, 0, 1,\n",
              "       0, 1, 1, 0, 1, 1, 1, 0, 1, 1, 1, 1, 1, 0, 1, 1, 1, 1, 1, 1, 1, 1,\n",
              "       1, 0, 1, 1, 1, 1, 1, 1, 0, 1, 1, 1, 1, 1, 1, 1, 1, 1, 1, 1, 1, 1,\n",
              "       1, 1, 1, 1, 1, 1, 1, 0, 1, 1, 1, 1, 1, 1, 1, 1, 1, 1, 0, 0, 1, 1,\n",
              "       1, 1, 1, 1, 1, 1, 1, 1, 1, 1, 1, 1, 1, 0, 1, 1, 1, 1, 0, 1, 1, 1,\n",
              "       0, 0, 1, 1, 1, 1, 1, 1, 1, 0, 1, 1, 1, 1, 1, 1, 1, 0, 1, 1, 1, 1,\n",
              "       1, 1, 1, 1, 1, 1, 1, 1, 0, 0, 1, 0, 0, 0, 1, 1, 1, 0, 1, 1, 1, 1,\n",
              "       1, 1, 1, 1, 1, 1, 1, 1])"
            ]
          },
          "metadata": {},
          "execution_count": 26
        }
      ],
      "source": [
        "mod.predict(tt)"
      ]
    },
    {
      "cell_type": "code",
      "execution_count": 27,
      "id": "ebd63169",
      "metadata": {
        "execution": {
          "iopub.execute_input": "2023-01-29T09:31:58.668438Z",
          "iopub.status.busy": "2023-01-29T09:31:58.667207Z",
          "iopub.status.idle": "2023-01-29T09:31:58.676483Z",
          "shell.execute_reply": "2023-01-29T09:31:58.675337Z"
        },
        "papermill": {
          "duration": 0.02512,
          "end_time": "2023-01-29T09:31:58.679284",
          "exception": false,
          "start_time": "2023-01-29T09:31:58.654164",
          "status": "completed"
        },
        "tags": [],
        "colab": {
          "base_uri": "https://localhost:8080/"
        },
        "id": "ebd63169",
        "outputId": "b77d250f-f6fd-471c-f660-ac3cde80ff66"
      },
      "outputs": [
        {
          "output_type": "execute_result",
          "data": {
            "text/plain": [
              "0.9874551971326165"
            ]
          },
          "metadata": {},
          "execution_count": 27
        }
      ],
      "source": [
        "mod.score(tt,y_test)"
      ]
    },
    {
      "cell_type": "code",
      "execution_count": 30,
      "id": "9816ca16",
      "metadata": {
        "execution": {
          "iopub.execute_input": "2023-01-29T09:31:58.728651Z",
          "iopub.status.busy": "2023-01-29T09:31:58.728166Z",
          "iopub.status.idle": "2023-01-29T09:31:58.736619Z",
          "shell.execute_reply": "2023-01-29T09:31:58.735390Z"
        },
        "papermill": {
          "duration": 0.024027,
          "end_time": "2023-01-29T09:31:58.739090",
          "exception": false,
          "start_time": "2023-01-29T09:31:58.715063",
          "status": "completed"
        },
        "tags": [],
        "colab": {
          "base_uri": "https://localhost:8080/"
        },
        "id": "9816ca16",
        "outputId": "4872b5e2-3e01-4422-ed54-1bec7f6de6c5"
      },
      "outputs": [
        {
          "output_type": "execute_result",
          "data": {
            "text/plain": [
              "array([1, 0, 1, 0])"
            ]
          },
          "metadata": {},
          "execution_count": 30
        }
      ],
      "source": [
        "mod.predict(mail)"
      ]
    }
  ],
  "metadata": {
    "kernelspec": {
      "display_name": "Python 3",
      "language": "python",
      "name": "python3"
    },
    "language_info": {
      "codemirror_mode": {
        "name": "ipython",
        "version": 3
      },
      "file_extension": ".py",
      "mimetype": "text/x-python",
      "name": "python",
      "nbconvert_exporter": "python",
      "pygments_lexer": "ipython3",
      "version": "3.7.12"
    },
    "papermill": {
      "default_parameters": {},
      "duration": 13.383036,
      "end_time": "2023-01-29T09:31:59.597152",
      "environment_variables": {},
      "exception": null,
      "input_path": "__notebook__.ipynb",
      "output_path": "__notebook__.ipynb",
      "parameters": {},
      "start_time": "2023-01-29T09:31:46.214116",
      "version": "2.3.4"
    },
    "colab": {
      "provenance": []
    }
  },
  "nbformat": 4,
  "nbformat_minor": 5
}